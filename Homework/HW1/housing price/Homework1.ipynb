{
 "cells": [
  {
   "cell_type": "markdown",
   "metadata": {},
   "source": [
    "### Homework 1 PROGRAMMING EXERCISES\n",
    "#### Part1. Warm Up"
   ]
  },
  {
   "cell_type": "markdown",
   "metadata": {},
   "source": [
    "1. Let $ a=array[1,2,3,4,5,6,7,8] $. Reshape a into a 2 by 4 matrix."
   ]
  },
  {
   "cell_type": "code",
   "execution_count": 29,
   "metadata": {},
   "outputs": [
    {
     "name": "stdout",
     "output_type": "stream",
     "text": [
      "tensor([[1, 2, 3, 4],\n",
      "        [5, 6, 7, 8]])\n"
     ]
    }
   ],
   "source": [
    "import torch\n",
    "\n",
    "a = [1,2,3,4,5,6,7,8]\n",
    "original_tensor = torch.tensor([a])\n",
    "reshaped_tensor = original_tensor.view(2, 4)\n",
    "\n",
    "print(reshaped_tensor)\n"
   ]
  },
  {
   "cell_type": "markdown",
   "metadata": {},
   "source": [
    "2. Let a be a pytorch tensor constructed with elements $ [1,3,5,6] $, and let b be a tensor constructed with elements $ [5,6,8,9] $. \n",
    "Write a sequence of lines, one each to perform the following operations on a and b. "
   ]
  },
  {
   "cell_type": "code",
   "execution_count": 30,
   "metadata": {},
   "outputs": [],
   "source": [
    "a = torch.tensor([1,3,5,6])\n",
    "b = torch.tensor([5,6,8,9])"
   ]
  },
  {
   "cell_type": "markdown",
   "metadata": {},
   "source": [
    "* Elementwise addition"
   ]
  },
  {
   "cell_type": "code",
   "execution_count": 31,
   "metadata": {},
   "outputs": [
    {
     "name": "stdout",
     "output_type": "stream",
     "text": [
      "tensor([ 6,  9, 13, 15])\n"
     ]
    }
   ],
   "source": [
    "result = a + b\n",
    "print(result)"
   ]
  },
  {
   "cell_type": "markdown",
   "metadata": {},
   "source": [
    "* Elementwise multiplication"
   ]
  },
  {
   "cell_type": "code",
   "execution_count": 32,
   "metadata": {},
   "outputs": [
    {
     "name": "stdout",
     "output_type": "stream",
     "text": [
      "tensor([ 5, 18, 40, 54])\n"
     ]
    }
   ],
   "source": [
    "result = a * b\n",
    "print(result)"
   ]
  },
  {
   "cell_type": "markdown",
   "metadata": {},
   "source": [
    "* Elementwise power"
   ]
  },
  {
   "cell_type": "code",
   "execution_count": 33,
   "metadata": {},
   "outputs": [
    {
     "name": "stdout",
     "output_type": "stream",
     "text": [
      "tensor([       1,      729,   390625, 10077696])\n"
     ]
    }
   ],
   "source": [
    "result = torch.pow(a, b)\n",
    "print(result)"
   ]
  },
  {
   "cell_type": "markdown",
   "metadata": {},
   "source": [
    "* Dot product between a and b"
   ]
  },
  {
   "cell_type": "code",
   "execution_count": 34,
   "metadata": {},
   "outputs": [
    {
     "name": "stdout",
     "output_type": "stream",
     "text": [
      "tensor(117)\n"
     ]
    }
   ],
   "source": [
    "result = torch.dot(a, b)\n",
    "print(result)"
   ]
  },
  {
   "cell_type": "markdown",
   "metadata": {},
   "source": [
    "* Dot product between an elementwise exponentiation of a with base e and an elementwise\n",
    "natural logarithm of b"
   ]
  },
  {
   "cell_type": "code",
   "execution_count": 35,
   "metadata": {},
   "outputs": [
    {
     "name": "stdout",
     "output_type": "stream",
     "text": [
      "tensor(1235.4036)\n"
     ]
    }
   ],
   "source": [
    "result = torch.dot(torch.exp(a),torch.log(b))\n",
    "print(result)"
   ]
  },
  {
   "cell_type": "markdown",
   "metadata": {},
   "source": [
    "3. Use tensor and autograd from the pytorch package to complete the following questions:\n",
    "* Calculate the gradient of\n",
    "    $$ g(x,y,z,k)\\ =\\ e^xx^2+3e^yy^2+5e^zz^2+6e^kk^2 $$ \n",
    "    Evaluated at the point $ (x=5,y=6,z=8,k=9) $"
   ]
  },
  {
   "cell_type": "code",
   "execution_count": 36,
   "metadata": {},
   "outputs": [
    {
     "name": "stdout",
     "output_type": "stream",
     "text": [
      "Values: tensor([5., 6., 8., 9.], requires_grad=True)\n",
      "Gradients: tensor([   5194.4609,   58093.7500, 1192383.2500, 4813232.0000])\n"
     ]
    }
   ],
   "source": [
    "a = torch.tensor([1,3,5,6], dtype=torch.float32, requires_grad= True)\n",
    "b = torch.tensor([5,6,8,9], dtype=torch.float32, requires_grad= True)\n",
    "result = torch.dot(a, (torch.exp(b) * b ** 2))\n",
    "result.backward()\n",
    "gradients = b.grad\n",
    "\n",
    "print(\"Values:\", b)\n",
    "print(\"Gradients:\", gradients)\n"
   ]
  },
  {
   "cell_type": "markdown",
   "metadata": {},
   "source": [
    "* Let A be a matrix with values $ [4,3],[7,9] $ and B be a matrix with values $ [3,5], [1,11] $. Calculate the gradient of the following function $ f(A) $ with respect to the entries of A evaluated at the point where A takes the above values.\n",
    "$$ f(A)=log‖A^T AB^T AA^T AB‖^2 $$"
   ]
  },
  {
   "cell_type": "code",
   "execution_count": 37,
   "metadata": {},
   "outputs": [
    {
     "name": "stdout",
     "output_type": "stream",
     "text": [
      "tensor(17.4227, grad_fn=<LogBackward0>)\n",
      "Gradients: tensor([[0.0869, 0.1427],\n",
      "        [0.1918, 0.3202]])\n"
     ]
    }
   ],
   "source": [
    "a = torch.tensor([[4,3],\n",
    "                  [7,9]],dtype= torch.float32, requires_grad= True)\n",
    "b = torch.tensor([[3,5],[1,11]],dtype= torch.float32, requires_grad= True)\n",
    "a_t = a.t()\n",
    "b_t = b.t()\n",
    "matrix = a_t @ a @ b_t @ a @ a_t @ a @ b\n",
    "result = torch.log(torch.norm(matrix, p=2))\n",
    "result.backward()\n",
    "gradients = a.grad\n",
    "print(result)\n",
    "print(\"Gradients:\", gradients)"
   ]
  },
  {
   "cell_type": "markdown",
   "metadata": {},
   "source": [
    "* Calculate the gradient of \n",
    "   $$ F (x, y) = tanh (x) + tanh (y) $$\n",
    "   at the point $ (x = 3, y = 7) $."
   ]
  },
  {
   "cell_type": "code",
   "execution_count": 38,
   "metadata": {},
   "outputs": [
    {
     "name": "stdout",
     "output_type": "stream",
     "text": [
      "Gradient at x: tensor([0.0013])\n",
      "Gradient at y: tensor([0.0099])\n"
     ]
    }
   ],
   "source": [
    "x = torch.tensor([4.0], requires_grad= True)\n",
    "y = torch.tensor([3.0], requires_grad= True)\n",
    "result = torch.tanh(x) + torch.tanh(y)\n",
    "result.backward()\n",
    "gradient_x = x.grad\n",
    "gradient_y = y.grad\n",
    "\n",
    "print(\"Gradient at x:\", gradient_x)\n",
    "print(\"Gradient at y:\", gradient_y)\n",
    "\n"
   ]
  },
  {
   "cell_type": "markdown",
   "metadata": {},
   "source": [
    "4. Let a be a torch integer tensor containing the values $ [1, 2, 3] $.\n",
    "* convert a to a numpy array and store it under a new variable b\n",
    "* convert a into a float tensor\n",
    "\n"
   ]
  },
  {
   "cell_type": "code",
   "execution_count": 39,
   "metadata": {},
   "outputs": [
    {
     "name": "stdout",
     "output_type": "stream",
     "text": [
      "Numpy array: [1 2 3]\n",
      "Float tensor: tensor([1., 2., 3.])\n"
     ]
    }
   ],
   "source": [
    "import numpy as np\n",
    "a = torch.tensor([1, 2, 3], dtype= torch.int32)\n",
    "b = a.numpy()\n",
    "a = a.to(torch.float32)\n",
    "\n",
    "print(f\"Numpy array: {b}\")\n",
    "print(f\"Float tensor: {a}\")"
   ]
  },
  {
   "cell_type": "markdown",
   "metadata": {},
   "source": [
    "5. Answer the following questions using the package Numpy:\n",
    "* What is the product of matrices of matrices $ [[1, 3, 5], [2, 1, 5]] $ and $ [[8, 4], [3, 6], [2, 7]] $?\n",
    "\n",
    "* What is the Frobenius norm of the  1 x 3  matrix $ [100, 2, 1] $?"
   ]
  },
  {
   "cell_type": "code",
   "execution_count": 40,
   "metadata": {},
   "outputs": [
    {
     "name": "stdout",
     "output_type": "stream",
     "text": [
      "The product of matrices is: tensor([[27, 57],\n",
      "        [29, 49]])\n",
      "The Frobenius norm is 100.02499389648438\n"
     ]
    }
   ],
   "source": [
    "a = torch.tensor([[1,3,5],[2,1,5]])\n",
    "b = torch.tensor([[8,4],[3,6],[2,7]])\n",
    "result_1 = torch.matmul(a,b)\n",
    "c = torch.tensor([100,2,1], dtype= torch.float32)\n",
    "result_2 = torch.norm(c, p=2)\n",
    "print(f\"The product of matrices is: {result_1}\")\n",
    "print(f\"The Frobenius norm is {result_2}\")"
   ]
  },
  {
   "cell_type": "markdown",
   "metadata": {},
   "source": [
    "#### Part2. Housing Price"
   ]
  },
  {
   "cell_type": "markdown",
   "metadata": {},
   "source": [
    "1. Join the House Prices - Advanced Regression Techniques competition on Kaggle. Download the training and test data."
   ]
  },
  {
   "cell_type": "code",
   "execution_count": 41,
   "metadata": {},
   "outputs": [],
   "source": [
    "# Import Libraires\n",
    "import pandas as pd\n",
    "import numpy as np\n",
    "import matplotlib.pyplot as plt\n",
    "import sklearn"
   ]
  },
  {
   "cell_type": "code",
   "execution_count": 42,
   "metadata": {},
   "outputs": [],
   "source": [
    "# Data Load\n",
    "train = pd.read_csv('./train.csv')\n",
    "test = pd.read_csv('./test.csv')"
   ]
  },
  {
   "cell_type": "code",
   "execution_count": 43,
   "metadata": {},
   "outputs": [
    {
     "data": {
      "text/html": [
       "<div>\n",
       "<style scoped>\n",
       "    .dataframe tbody tr th:only-of-type {\n",
       "        vertical-align: middle;\n",
       "    }\n",
       "\n",
       "    .dataframe tbody tr th {\n",
       "        vertical-align: top;\n",
       "    }\n",
       "\n",
       "    .dataframe thead th {\n",
       "        text-align: right;\n",
       "    }\n",
       "</style>\n",
       "<table border=\"1\" class=\"dataframe\">\n",
       "  <thead>\n",
       "    <tr style=\"text-align: right;\">\n",
       "      <th></th>\n",
       "      <th>Id</th>\n",
       "      <th>MSSubClass</th>\n",
       "      <th>MSZoning</th>\n",
       "      <th>LotFrontage</th>\n",
       "      <th>LotArea</th>\n",
       "      <th>Street</th>\n",
       "      <th>Alley</th>\n",
       "      <th>LotShape</th>\n",
       "      <th>LandContour</th>\n",
       "      <th>Utilities</th>\n",
       "      <th>...</th>\n",
       "      <th>PoolArea</th>\n",
       "      <th>PoolQC</th>\n",
       "      <th>Fence</th>\n",
       "      <th>MiscFeature</th>\n",
       "      <th>MiscVal</th>\n",
       "      <th>MoSold</th>\n",
       "      <th>YrSold</th>\n",
       "      <th>SaleType</th>\n",
       "      <th>SaleCondition</th>\n",
       "      <th>SalePrice</th>\n",
       "    </tr>\n",
       "  </thead>\n",
       "  <tbody>\n",
       "    <tr>\n",
       "      <th>0</th>\n",
       "      <td>1</td>\n",
       "      <td>60</td>\n",
       "      <td>RL</td>\n",
       "      <td>65.0</td>\n",
       "      <td>8450</td>\n",
       "      <td>Pave</td>\n",
       "      <td>NaN</td>\n",
       "      <td>Reg</td>\n",
       "      <td>Lvl</td>\n",
       "      <td>AllPub</td>\n",
       "      <td>...</td>\n",
       "      <td>0</td>\n",
       "      <td>NaN</td>\n",
       "      <td>NaN</td>\n",
       "      <td>NaN</td>\n",
       "      <td>0</td>\n",
       "      <td>2</td>\n",
       "      <td>2008</td>\n",
       "      <td>WD</td>\n",
       "      <td>Normal</td>\n",
       "      <td>208500</td>\n",
       "    </tr>\n",
       "    <tr>\n",
       "      <th>1</th>\n",
       "      <td>2</td>\n",
       "      <td>20</td>\n",
       "      <td>RL</td>\n",
       "      <td>80.0</td>\n",
       "      <td>9600</td>\n",
       "      <td>Pave</td>\n",
       "      <td>NaN</td>\n",
       "      <td>Reg</td>\n",
       "      <td>Lvl</td>\n",
       "      <td>AllPub</td>\n",
       "      <td>...</td>\n",
       "      <td>0</td>\n",
       "      <td>NaN</td>\n",
       "      <td>NaN</td>\n",
       "      <td>NaN</td>\n",
       "      <td>0</td>\n",
       "      <td>5</td>\n",
       "      <td>2007</td>\n",
       "      <td>WD</td>\n",
       "      <td>Normal</td>\n",
       "      <td>181500</td>\n",
       "    </tr>\n",
       "    <tr>\n",
       "      <th>2</th>\n",
       "      <td>3</td>\n",
       "      <td>60</td>\n",
       "      <td>RL</td>\n",
       "      <td>68.0</td>\n",
       "      <td>11250</td>\n",
       "      <td>Pave</td>\n",
       "      <td>NaN</td>\n",
       "      <td>IR1</td>\n",
       "      <td>Lvl</td>\n",
       "      <td>AllPub</td>\n",
       "      <td>...</td>\n",
       "      <td>0</td>\n",
       "      <td>NaN</td>\n",
       "      <td>NaN</td>\n",
       "      <td>NaN</td>\n",
       "      <td>0</td>\n",
       "      <td>9</td>\n",
       "      <td>2008</td>\n",
       "      <td>WD</td>\n",
       "      <td>Normal</td>\n",
       "      <td>223500</td>\n",
       "    </tr>\n",
       "    <tr>\n",
       "      <th>3</th>\n",
       "      <td>4</td>\n",
       "      <td>70</td>\n",
       "      <td>RL</td>\n",
       "      <td>60.0</td>\n",
       "      <td>9550</td>\n",
       "      <td>Pave</td>\n",
       "      <td>NaN</td>\n",
       "      <td>IR1</td>\n",
       "      <td>Lvl</td>\n",
       "      <td>AllPub</td>\n",
       "      <td>...</td>\n",
       "      <td>0</td>\n",
       "      <td>NaN</td>\n",
       "      <td>NaN</td>\n",
       "      <td>NaN</td>\n",
       "      <td>0</td>\n",
       "      <td>2</td>\n",
       "      <td>2006</td>\n",
       "      <td>WD</td>\n",
       "      <td>Abnorml</td>\n",
       "      <td>140000</td>\n",
       "    </tr>\n",
       "    <tr>\n",
       "      <th>4</th>\n",
       "      <td>5</td>\n",
       "      <td>60</td>\n",
       "      <td>RL</td>\n",
       "      <td>84.0</td>\n",
       "      <td>14260</td>\n",
       "      <td>Pave</td>\n",
       "      <td>NaN</td>\n",
       "      <td>IR1</td>\n",
       "      <td>Lvl</td>\n",
       "      <td>AllPub</td>\n",
       "      <td>...</td>\n",
       "      <td>0</td>\n",
       "      <td>NaN</td>\n",
       "      <td>NaN</td>\n",
       "      <td>NaN</td>\n",
       "      <td>0</td>\n",
       "      <td>12</td>\n",
       "      <td>2008</td>\n",
       "      <td>WD</td>\n",
       "      <td>Normal</td>\n",
       "      <td>250000</td>\n",
       "    </tr>\n",
       "  </tbody>\n",
       "</table>\n",
       "<p>5 rows × 81 columns</p>\n",
       "</div>"
      ],
      "text/plain": [
       "   Id  MSSubClass MSZoning  LotFrontage  LotArea Street Alley LotShape  \\\n",
       "0   1          60       RL         65.0     8450   Pave   NaN      Reg   \n",
       "1   2          20       RL         80.0     9600   Pave   NaN      Reg   \n",
       "2   3          60       RL         68.0    11250   Pave   NaN      IR1   \n",
       "3   4          70       RL         60.0     9550   Pave   NaN      IR1   \n",
       "4   5          60       RL         84.0    14260   Pave   NaN      IR1   \n",
       "\n",
       "  LandContour Utilities  ... PoolArea PoolQC Fence MiscFeature MiscVal MoSold  \\\n",
       "0         Lvl    AllPub  ...        0    NaN   NaN         NaN       0      2   \n",
       "1         Lvl    AllPub  ...        0    NaN   NaN         NaN       0      5   \n",
       "2         Lvl    AllPub  ...        0    NaN   NaN         NaN       0      9   \n",
       "3         Lvl    AllPub  ...        0    NaN   NaN         NaN       0      2   \n",
       "4         Lvl    AllPub  ...        0    NaN   NaN         NaN       0     12   \n",
       "\n",
       "  YrSold  SaleType  SaleCondition  SalePrice  \n",
       "0   2008        WD         Normal     208500  \n",
       "1   2007        WD         Normal     181500  \n",
       "2   2008        WD         Normal     223500  \n",
       "3   2006        WD        Abnorml     140000  \n",
       "4   2008        WD         Normal     250000  \n",
       "\n",
       "[5 rows x 81 columns]"
      ]
     },
     "execution_count": 43,
     "metadata": {},
     "output_type": "execute_result"
    }
   ],
   "source": [
    "# Preview the train set\n",
    "train.head()"
   ]
  },
  {
   "cell_type": "code",
   "execution_count": 44,
   "metadata": {},
   "outputs": [
    {
     "data": {
      "text/html": [
       "<div>\n",
       "<style scoped>\n",
       "    .dataframe tbody tr th:only-of-type {\n",
       "        vertical-align: middle;\n",
       "    }\n",
       "\n",
       "    .dataframe tbody tr th {\n",
       "        vertical-align: top;\n",
       "    }\n",
       "\n",
       "    .dataframe thead th {\n",
       "        text-align: right;\n",
       "    }\n",
       "</style>\n",
       "<table border=\"1\" class=\"dataframe\">\n",
       "  <thead>\n",
       "    <tr style=\"text-align: right;\">\n",
       "      <th></th>\n",
       "      <th>Id</th>\n",
       "      <th>MSSubClass</th>\n",
       "      <th>MSZoning</th>\n",
       "      <th>LotFrontage</th>\n",
       "      <th>LotArea</th>\n",
       "      <th>Street</th>\n",
       "      <th>Alley</th>\n",
       "      <th>LotShape</th>\n",
       "      <th>LandContour</th>\n",
       "      <th>Utilities</th>\n",
       "      <th>...</th>\n",
       "      <th>ScreenPorch</th>\n",
       "      <th>PoolArea</th>\n",
       "      <th>PoolQC</th>\n",
       "      <th>Fence</th>\n",
       "      <th>MiscFeature</th>\n",
       "      <th>MiscVal</th>\n",
       "      <th>MoSold</th>\n",
       "      <th>YrSold</th>\n",
       "      <th>SaleType</th>\n",
       "      <th>SaleCondition</th>\n",
       "    </tr>\n",
       "  </thead>\n",
       "  <tbody>\n",
       "    <tr>\n",
       "      <th>0</th>\n",
       "      <td>1461</td>\n",
       "      <td>20</td>\n",
       "      <td>RH</td>\n",
       "      <td>80.0</td>\n",
       "      <td>11622</td>\n",
       "      <td>Pave</td>\n",
       "      <td>NaN</td>\n",
       "      <td>Reg</td>\n",
       "      <td>Lvl</td>\n",
       "      <td>AllPub</td>\n",
       "      <td>...</td>\n",
       "      <td>120</td>\n",
       "      <td>0</td>\n",
       "      <td>NaN</td>\n",
       "      <td>MnPrv</td>\n",
       "      <td>NaN</td>\n",
       "      <td>0</td>\n",
       "      <td>6</td>\n",
       "      <td>2010</td>\n",
       "      <td>WD</td>\n",
       "      <td>Normal</td>\n",
       "    </tr>\n",
       "    <tr>\n",
       "      <th>1</th>\n",
       "      <td>1462</td>\n",
       "      <td>20</td>\n",
       "      <td>RL</td>\n",
       "      <td>81.0</td>\n",
       "      <td>14267</td>\n",
       "      <td>Pave</td>\n",
       "      <td>NaN</td>\n",
       "      <td>IR1</td>\n",
       "      <td>Lvl</td>\n",
       "      <td>AllPub</td>\n",
       "      <td>...</td>\n",
       "      <td>0</td>\n",
       "      <td>0</td>\n",
       "      <td>NaN</td>\n",
       "      <td>NaN</td>\n",
       "      <td>Gar2</td>\n",
       "      <td>12500</td>\n",
       "      <td>6</td>\n",
       "      <td>2010</td>\n",
       "      <td>WD</td>\n",
       "      <td>Normal</td>\n",
       "    </tr>\n",
       "    <tr>\n",
       "      <th>2</th>\n",
       "      <td>1463</td>\n",
       "      <td>60</td>\n",
       "      <td>RL</td>\n",
       "      <td>74.0</td>\n",
       "      <td>13830</td>\n",
       "      <td>Pave</td>\n",
       "      <td>NaN</td>\n",
       "      <td>IR1</td>\n",
       "      <td>Lvl</td>\n",
       "      <td>AllPub</td>\n",
       "      <td>...</td>\n",
       "      <td>0</td>\n",
       "      <td>0</td>\n",
       "      <td>NaN</td>\n",
       "      <td>MnPrv</td>\n",
       "      <td>NaN</td>\n",
       "      <td>0</td>\n",
       "      <td>3</td>\n",
       "      <td>2010</td>\n",
       "      <td>WD</td>\n",
       "      <td>Normal</td>\n",
       "    </tr>\n",
       "    <tr>\n",
       "      <th>3</th>\n",
       "      <td>1464</td>\n",
       "      <td>60</td>\n",
       "      <td>RL</td>\n",
       "      <td>78.0</td>\n",
       "      <td>9978</td>\n",
       "      <td>Pave</td>\n",
       "      <td>NaN</td>\n",
       "      <td>IR1</td>\n",
       "      <td>Lvl</td>\n",
       "      <td>AllPub</td>\n",
       "      <td>...</td>\n",
       "      <td>0</td>\n",
       "      <td>0</td>\n",
       "      <td>NaN</td>\n",
       "      <td>NaN</td>\n",
       "      <td>NaN</td>\n",
       "      <td>0</td>\n",
       "      <td>6</td>\n",
       "      <td>2010</td>\n",
       "      <td>WD</td>\n",
       "      <td>Normal</td>\n",
       "    </tr>\n",
       "    <tr>\n",
       "      <th>4</th>\n",
       "      <td>1465</td>\n",
       "      <td>120</td>\n",
       "      <td>RL</td>\n",
       "      <td>43.0</td>\n",
       "      <td>5005</td>\n",
       "      <td>Pave</td>\n",
       "      <td>NaN</td>\n",
       "      <td>IR1</td>\n",
       "      <td>HLS</td>\n",
       "      <td>AllPub</td>\n",
       "      <td>...</td>\n",
       "      <td>144</td>\n",
       "      <td>0</td>\n",
       "      <td>NaN</td>\n",
       "      <td>NaN</td>\n",
       "      <td>NaN</td>\n",
       "      <td>0</td>\n",
       "      <td>1</td>\n",
       "      <td>2010</td>\n",
       "      <td>WD</td>\n",
       "      <td>Normal</td>\n",
       "    </tr>\n",
       "  </tbody>\n",
       "</table>\n",
       "<p>5 rows × 80 columns</p>\n",
       "</div>"
      ],
      "text/plain": [
       "     Id  MSSubClass MSZoning  LotFrontage  LotArea Street Alley LotShape  \\\n",
       "0  1461          20       RH         80.0    11622   Pave   NaN      Reg   \n",
       "1  1462          20       RL         81.0    14267   Pave   NaN      IR1   \n",
       "2  1463          60       RL         74.0    13830   Pave   NaN      IR1   \n",
       "3  1464          60       RL         78.0     9978   Pave   NaN      IR1   \n",
       "4  1465         120       RL         43.0     5005   Pave   NaN      IR1   \n",
       "\n",
       "  LandContour Utilities  ... ScreenPorch PoolArea PoolQC  Fence MiscFeature  \\\n",
       "0         Lvl    AllPub  ...         120        0    NaN  MnPrv         NaN   \n",
       "1         Lvl    AllPub  ...           0        0    NaN    NaN        Gar2   \n",
       "2         Lvl    AllPub  ...           0        0    NaN  MnPrv         NaN   \n",
       "3         Lvl    AllPub  ...           0        0    NaN    NaN         NaN   \n",
       "4         HLS    AllPub  ...         144        0    NaN    NaN         NaN   \n",
       "\n",
       "  MiscVal MoSold  YrSold  SaleType  SaleCondition  \n",
       "0       0      6    2010        WD         Normal  \n",
       "1   12500      6    2010        WD         Normal  \n",
       "2       0      3    2010        WD         Normal  \n",
       "3       0      6    2010        WD         Normal  \n",
       "4       0      1    2010        WD         Normal  \n",
       "\n",
       "[5 rows x 80 columns]"
      ]
     },
     "execution_count": 44,
     "metadata": {},
     "output_type": "execute_result"
    }
   ],
   "source": [
    "# Preview the test set\n",
    "test.head()"
   ]
  },
  {
   "cell_type": "code",
   "execution_count": 45,
   "metadata": {},
   "outputs": [
    {
     "name": "stdout",
     "output_type": "stream",
     "text": [
      "<class 'pandas.core.frame.DataFrame'>\n",
      "RangeIndex: 1460 entries, 0 to 1459\n",
      "Data columns (total 81 columns):\n",
      " #   Column         Non-Null Count  Dtype  \n",
      "---  ------         --------------  -----  \n",
      " 0   Id             1460 non-null   int64  \n",
      " 1   MSSubClass     1460 non-null   int64  \n",
      " 2   MSZoning       1460 non-null   object \n",
      " 3   LotFrontage    1201 non-null   float64\n",
      " 4   LotArea        1460 non-null   int64  \n",
      " 5   Street         1460 non-null   object \n",
      " 6   Alley          91 non-null     object \n",
      " 7   LotShape       1460 non-null   object \n",
      " 8   LandContour    1460 non-null   object \n",
      " 9   Utilities      1460 non-null   object \n",
      " 10  LotConfig      1460 non-null   object \n",
      " 11  LandSlope      1460 non-null   object \n",
      " 12  Neighborhood   1460 non-null   object \n",
      " 13  Condition1     1460 non-null   object \n",
      " 14  Condition2     1460 non-null   object \n",
      " 15  BldgType       1460 non-null   object \n",
      " 16  HouseStyle     1460 non-null   object \n",
      " 17  OverallQual    1460 non-null   int64  \n",
      " 18  OverallCond    1460 non-null   int64  \n",
      " 19  YearBuilt      1460 non-null   int64  \n",
      " 20  YearRemodAdd   1460 non-null   int64  \n",
      " 21  RoofStyle      1460 non-null   object \n",
      " 22  RoofMatl       1460 non-null   object \n",
      " 23  Exterior1st    1460 non-null   object \n",
      " 24  Exterior2nd    1460 non-null   object \n",
      " 25  MasVnrType     1452 non-null   object \n",
      " 26  MasVnrArea     1452 non-null   float64\n",
      " 27  ExterQual      1460 non-null   object \n",
      " 28  ExterCond      1460 non-null   object \n",
      " 29  Foundation     1460 non-null   object \n",
      " 30  BsmtQual       1423 non-null   object \n",
      " 31  BsmtCond       1423 non-null   object \n",
      " 32  BsmtExposure   1422 non-null   object \n",
      " 33  BsmtFinType1   1423 non-null   object \n",
      " 34  BsmtFinSF1     1460 non-null   int64  \n",
      " 35  BsmtFinType2   1422 non-null   object \n",
      " 36  BsmtFinSF2     1460 non-null   int64  \n",
      " 37  BsmtUnfSF      1460 non-null   int64  \n",
      " 38  TotalBsmtSF    1460 non-null   int64  \n",
      " 39  Heating        1460 non-null   object \n",
      " 40  HeatingQC      1460 non-null   object \n",
      " 41  CentralAir     1460 non-null   object \n",
      " 42  Electrical     1459 non-null   object \n",
      " 43  1stFlrSF       1460 non-null   int64  \n",
      " 44  2ndFlrSF       1460 non-null   int64  \n",
      " 45  LowQualFinSF   1460 non-null   int64  \n",
      " 46  GrLivArea      1460 non-null   int64  \n",
      " 47  BsmtFullBath   1460 non-null   int64  \n",
      " 48  BsmtHalfBath   1460 non-null   int64  \n",
      " 49  FullBath       1460 non-null   int64  \n",
      " 50  HalfBath       1460 non-null   int64  \n",
      " 51  BedroomAbvGr   1460 non-null   int64  \n",
      " 52  KitchenAbvGr   1460 non-null   int64  \n",
      " 53  KitchenQual    1460 non-null   object \n",
      " 54  TotRmsAbvGrd   1460 non-null   int64  \n",
      " 55  Functional     1460 non-null   object \n",
      " 56  Fireplaces     1460 non-null   int64  \n",
      " 57  FireplaceQu    770 non-null    object \n",
      " 58  GarageType     1379 non-null   object \n",
      " 59  GarageYrBlt    1379 non-null   float64\n",
      " 60  GarageFinish   1379 non-null   object \n",
      " 61  GarageCars     1460 non-null   int64  \n",
      " 62  GarageArea     1460 non-null   int64  \n",
      " 63  GarageQual     1379 non-null   object \n",
      " 64  GarageCond     1379 non-null   object \n",
      " 65  PavedDrive     1460 non-null   object \n",
      " 66  WoodDeckSF     1460 non-null   int64  \n",
      " 67  OpenPorchSF    1460 non-null   int64  \n",
      " 68  EnclosedPorch  1460 non-null   int64  \n",
      " 69  3SsnPorch      1460 non-null   int64  \n",
      " 70  ScreenPorch    1460 non-null   int64  \n",
      " 71  PoolArea       1460 non-null   int64  \n",
      " 72  PoolQC         7 non-null      object \n",
      " 73  Fence          281 non-null    object \n",
      " 74  MiscFeature    54 non-null     object \n",
      " 75  MiscVal        1460 non-null   int64  \n",
      " 76  MoSold         1460 non-null   int64  \n",
      " 77  YrSold         1460 non-null   int64  \n",
      " 78  SaleType       1460 non-null   object \n",
      " 79  SaleCondition  1460 non-null   object \n",
      " 80  SalePrice      1460 non-null   int64  \n",
      "dtypes: float64(3), int64(35), object(43)\n",
      "memory usage: 924.0+ KB\n"
     ]
    }
   ],
   "source": [
    "train.info()"
   ]
  },
  {
   "cell_type": "code",
   "execution_count": 46,
   "metadata": {},
   "outputs": [
    {
     "name": "stdout",
     "output_type": "stream",
     "text": [
      "<class 'pandas.core.frame.DataFrame'>\n",
      "RangeIndex: 1459 entries, 0 to 1458\n",
      "Data columns (total 80 columns):\n",
      " #   Column         Non-Null Count  Dtype  \n",
      "---  ------         --------------  -----  \n",
      " 0   Id             1459 non-null   int64  \n",
      " 1   MSSubClass     1459 non-null   int64  \n",
      " 2   MSZoning       1455 non-null   object \n",
      " 3   LotFrontage    1232 non-null   float64\n",
      " 4   LotArea        1459 non-null   int64  \n",
      " 5   Street         1459 non-null   object \n",
      " 6   Alley          107 non-null    object \n",
      " 7   LotShape       1459 non-null   object \n",
      " 8   LandContour    1459 non-null   object \n",
      " 9   Utilities      1457 non-null   object \n",
      " 10  LotConfig      1459 non-null   object \n",
      " 11  LandSlope      1459 non-null   object \n",
      " 12  Neighborhood   1459 non-null   object \n",
      " 13  Condition1     1459 non-null   object \n",
      " 14  Condition2     1459 non-null   object \n",
      " 15  BldgType       1459 non-null   object \n",
      " 16  HouseStyle     1459 non-null   object \n",
      " 17  OverallQual    1459 non-null   int64  \n",
      " 18  OverallCond    1459 non-null   int64  \n",
      " 19  YearBuilt      1459 non-null   int64  \n",
      " 20  YearRemodAdd   1459 non-null   int64  \n",
      " 21  RoofStyle      1459 non-null   object \n",
      " 22  RoofMatl       1459 non-null   object \n",
      " 23  Exterior1st    1458 non-null   object \n",
      " 24  Exterior2nd    1458 non-null   object \n",
      " 25  MasVnrType     1443 non-null   object \n",
      " 26  MasVnrArea     1444 non-null   float64\n",
      " 27  ExterQual      1459 non-null   object \n",
      " 28  ExterCond      1459 non-null   object \n",
      " 29  Foundation     1459 non-null   object \n",
      " 30  BsmtQual       1415 non-null   object \n",
      " 31  BsmtCond       1414 non-null   object \n",
      " 32  BsmtExposure   1415 non-null   object \n",
      " 33  BsmtFinType1   1417 non-null   object \n",
      " 34  BsmtFinSF1     1458 non-null   float64\n",
      " 35  BsmtFinType2   1417 non-null   object \n",
      " 36  BsmtFinSF2     1458 non-null   float64\n",
      " 37  BsmtUnfSF      1458 non-null   float64\n",
      " 38  TotalBsmtSF    1458 non-null   float64\n",
      " 39  Heating        1459 non-null   object \n",
      " 40  HeatingQC      1459 non-null   object \n",
      " 41  CentralAir     1459 non-null   object \n",
      " 42  Electrical     1459 non-null   object \n",
      " 43  1stFlrSF       1459 non-null   int64  \n",
      " 44  2ndFlrSF       1459 non-null   int64  \n",
      " 45  LowQualFinSF   1459 non-null   int64  \n",
      " 46  GrLivArea      1459 non-null   int64  \n",
      " 47  BsmtFullBath   1457 non-null   float64\n",
      " 48  BsmtHalfBath   1457 non-null   float64\n",
      " 49  FullBath       1459 non-null   int64  \n",
      " 50  HalfBath       1459 non-null   int64  \n",
      " 51  BedroomAbvGr   1459 non-null   int64  \n",
      " 52  KitchenAbvGr   1459 non-null   int64  \n",
      " 53  KitchenQual    1458 non-null   object \n",
      " 54  TotRmsAbvGrd   1459 non-null   int64  \n",
      " 55  Functional     1457 non-null   object \n",
      " 56  Fireplaces     1459 non-null   int64  \n",
      " 57  FireplaceQu    729 non-null    object \n",
      " 58  GarageType     1383 non-null   object \n",
      " 59  GarageYrBlt    1381 non-null   float64\n",
      " 60  GarageFinish   1381 non-null   object \n",
      " 61  GarageCars     1458 non-null   float64\n",
      " 62  GarageArea     1458 non-null   float64\n",
      " 63  GarageQual     1381 non-null   object \n",
      " 64  GarageCond     1381 non-null   object \n",
      " 65  PavedDrive     1459 non-null   object \n",
      " 66  WoodDeckSF     1459 non-null   int64  \n",
      " 67  OpenPorchSF    1459 non-null   int64  \n",
      " 68  EnclosedPorch  1459 non-null   int64  \n",
      " 69  3SsnPorch      1459 non-null   int64  \n",
      " 70  ScreenPorch    1459 non-null   int64  \n",
      " 71  PoolArea       1459 non-null   int64  \n",
      " 72  PoolQC         3 non-null      object \n",
      " 73  Fence          290 non-null    object \n",
      " 74  MiscFeature    51 non-null     object \n",
      " 75  MiscVal        1459 non-null   int64  \n",
      " 76  MoSold         1459 non-null   int64  \n",
      " 77  YrSold         1459 non-null   int64  \n",
      " 78  SaleType       1458 non-null   object \n",
      " 79  SaleCondition  1459 non-null   object \n",
      "dtypes: float64(11), int64(26), object(43)\n",
      "memory usage: 912.0+ KB\n"
     ]
    }
   ],
   "source": [
    "test.info()"
   ]
  },
  {
   "cell_type": "markdown",
   "metadata": {},
   "source": [
    "2. Give 3 examples of continuous and categorical features in the dataset; choose one feature of each type and plot the histogram to illustrate the distribution."
   ]
  },
  {
   "cell_type": "markdown",
   "metadata": {},
   "source": [
    "3 Examples of dataset"
   ]
  },
  {
   "cell_type": "code",
   "execution_count": 47,
   "metadata": {},
   "outputs": [
    {
     "name": "stdout",
     "output_type": "stream",
     "text": [
      "      LotArea  LotFrontage  MasVnrArea\n",
      "0        8450         65.0       196.0\n",
      "1        9600         80.0         0.0\n",
      "2       11250         68.0       162.0\n",
      "3        9550         60.0         0.0\n",
      "4       14260         84.0       350.0\n",
      "...       ...          ...         ...\n",
      "1455     7917         62.0         0.0\n",
      "1456    13175         85.0       119.0\n",
      "1457     9042         66.0         0.0\n",
      "1458     9717         68.0         0.0\n",
      "1459     9937         75.0         0.0\n",
      "\n",
      "[1460 rows x 3 columns]\n",
      "     MSZoning Street LotShape\n",
      "0          RL   Pave      Reg\n",
      "1          RL   Pave      Reg\n",
      "2          RL   Pave      IR1\n",
      "3          RL   Pave      IR1\n",
      "4          RL   Pave      IR1\n",
      "...       ...    ...      ...\n",
      "1455       RL   Pave      Reg\n",
      "1456       RL   Pave      Reg\n",
      "1457       RL   Pave      Reg\n",
      "1458       RL   Pave      Reg\n",
      "1459       RL   Pave      Reg\n",
      "\n",
      "[1460 rows x 3 columns]\n"
     ]
    }
   ],
   "source": [
    "continuous_features = train[['LotArea', 'LotFrontage', 'MasVnrArea']]\n",
    "categorical_features = train[['MSZoning', 'Street', 'LotShape']]\n",
    "print(continuous_features)\n",
    "print(categorical_features)\n"
   ]
  },
  {
   "cell_type": "markdown",
   "metadata": {},
   "source": [
    "Histogram to illustrate the distribution of Lot Frontage and Lot Shape"
   ]
  },
  {
   "cell_type": "code",
   "execution_count": 48,
   "metadata": {},
   "outputs": [
    {
     "data": {
      "text/plain": [
       "Text(0.5, 1.0, 'Historgram of Lotshape')"
      ]
     },
     "execution_count": 48,
     "metadata": {},
     "output_type": "execute_result"
    },
    {
     "data": {
      "image/png": "[encoded data removed]",
      "text/plain": [
       "<Figure size 2000x1000 with 2 Axes>"
      ]
     },
     "metadata": {},
     "output_type": "display_data"
    }
   ],
   "source": [
    "plt.figure(figsize=(20,10))\n",
    "\n",
    "plt.subplot(121)\n",
    "plt.hist(train['LotFrontage'], bins=30, color='green', edgecolor= 'black')\n",
    "plt.xlabel('Linear feet of street connected to property')\n",
    "plt.ylabel('Frequency')\n",
    "plt.title('Historgram of Lot Frontage')\n",
    "\n",
    "plt.subplot(122)\n",
    "plt.hist(train['LotShape'], bins=4, color='skyblue', edgecolor= 'black')\n",
    "plt.xlabel('General shape of property')\n",
    "plt.ylabel('Frequency')\n",
    "plt.title('Historgram of Lotshape')\n",
    "\n"
   ]
  },
  {
   "cell_type": "markdown",
   "metadata": {},
   "source": [
    "3. Pre-process your data, explain your pre-processing steps, and the reasons why you need them."
   ]
  },
  {
   "cell_type": "markdown",
   "metadata": {},
   "source": [
    "1. Data Loss Detection "
   ]
  },
  {
   "cell_type": "code",
   "execution_count": 49,
   "metadata": {},
   "outputs": [
    {
     "name": "stdout",
     "output_type": "stream",
     "text": [
      "34\n",
      "Index(['PoolQC', 'MiscFeature', 'Alley', 'Fence', 'FireplaceQu', 'LotFrontage',\n",
      "       'GarageFinish', 'GarageQual', 'GarageCond', 'GarageYrBlt', 'GarageType',\n",
      "       'BsmtExposure', 'BsmtCond', 'BsmtQual', 'BsmtFinType2', 'BsmtFinType1',\n",
      "       'MasVnrType', 'MasVnrArea', 'MSZoning', 'BsmtFullBath', 'BsmtHalfBath',\n",
      "       'Functional', 'Utilities', 'GarageArea', 'GarageCars', 'Electrical',\n",
      "       'KitchenQual', 'TotalBsmtSF', 'BsmtUnfSF', 'BsmtFinSF2', 'BsmtFinSF1',\n",
      "       'Exterior2nd', 'Exterior1st', 'SaleType'],\n",
      "      dtype='object', name='Feature')\n"
     ]
    },
    {
     "data": {
      "text/plain": [
       "Text(0, 0.5, 'Missing Percentage')"
      ]
     },
     "execution_count": 49,
     "metadata": {},
     "output_type": "execute_result"
    },
    {
     "data": {
      "image/png": "[encoded data removed]",
      "text/plain": [
       "<Figure size 2000x1000 with 1 Axes>"
      ]
     },
     "metadata": {},
     "output_type": "display_data"
    }
   ],
   "source": [
    "# Integrate the dataset to deal with the loss value\n",
    "integrated_data = pd.concat((train, test), axis=0).reset_index(drop=True)\n",
    "integrated_data.drop(['SalePrice'], axis=1, inplace=True)\n",
    "integrated_data.drop(['Id'], axis=1, inplace=True)\n",
    "# Calculate the missing percentage\n",
    "total_entries = integrated_data.shape[0]\n",
    "missing_percentage = pd.DataFrame((integrated_data.isna().sum() / total_entries * 100))\n",
    "missing_percentage.columns = ['Missing Percentage']\n",
    "missing_percentage.index.name = 'Feature'\n",
    "missing_percentage = missing_percentage[missing_percentage['Missing Percentage'] != 0]\n",
    "missing_percentage = missing_percentage.sort_values(by='Missing Percentage', ascending=False)\n",
    "missing_percentage\n",
    "print(missing_percentage.shape[0])\n",
    "print(missing_percentage.index)\n",
    "\n",
    "#Plot the distribution figure of loss\n",
    "missing_percentage.plot(kind='bar', legend= False, figsize=(20,10))\n",
    "plt.title('Index vs Missing Percentage')\n",
    "plt.xlabel('Index')\n",
    "plt.ylabel('Missing Percentage')\n"
   ]
  },
  {
   "cell_type": "markdown",
   "metadata": {},
   "source": [
    "2. Missing Value Imputation"
   ]
  },
  {
   "cell_type": "code",
   "execution_count": 50,
   "metadata": {},
   "outputs": [
    {
     "name": "stdout",
     "output_type": "stream",
     "text": [
      "0\n"
     ]
    }
   ],
   "source": [
    "# Use none or represent the houses don't have such features\n",
    "for index in ('PoolQC', 'MiscFeature', 'Alley', 'Fence', 'FireplaceQu', \n",
    "              'GarageFinish', 'GarageQual','GarageCond', 'GarageType',\n",
    "              'BsmtExposure', 'BsmtCond', 'BsmtQual','BsmtFinType2','BsmtFinType1',\n",
    "              'MasVnrType'):\n",
    "    integrated_data[index] = integrated_data[index].fillna('None')\n",
    "\n",
    "# Fill in those continuous variables who have many missing values with 0, which means they don't have such characteristics\n",
    "for index in ('GarageYrBlt','GarageArea', 'GarageCars', 'MasVnrArea', 'BsmtFullBath', 'BsmtHalfBath', 'TotalBsmtSF',\n",
    "               'BsmtUnfSF', 'BsmtFinSF2', 'BsmtFinSF1'):\n",
    "    integrated_data[index] = integrated_data[index].fillna(0)\n",
    "\n",
    "# Fill in those variables who has little missing values with mode, they may process this feature but lost it during collection\n",
    "for index in ('MSZoning', 'Electrical', 'KitchenQual', 'Exterior2nd', 'Exterior1st', 'SaleType'):\n",
    "    integrated_data[index] = integrated_data[index].fillna(integrated_data[index].mode()[0])\n",
    "\n",
    "# Every property should have Lot Frontage and they would be similar within the neighborhood, use median with the hood to fill the NA\n",
    "integrated_data['LotFrontage'] = integrated_data.groupby('Neighborhood')['LotFrontage'].transform(lambda x: x.fillna(x.median()))\n",
    "\n",
    "# According to the description, NA in Functional is 'Typ'\n",
    "integrated_data['Functional'] = integrated_data['Functional'].fillna('Typ')\n",
    "\n",
    "# The loss of value is not in the test_set, delete it directly\n",
    "integrated_data = integrated_data.drop(['Utilities'], axis=1)\n",
    "\n",
    "#Check if the loss value is fully eliminated\n",
    "print(integrated_data.isnull().sum().max())\n"
   ]
  },
  {
   "cell_type": "markdown",
   "metadata": {},
   "source": [
    "3. Convert the variables"
   ]
  },
  {
   "cell_type": "code",
   "execution_count": 51,
   "metadata": {},
   "outputs": [
    {
     "name": "stdout",
     "output_type": "stream",
     "text": [
      "Shape all data: (2919, 78)\n"
     ]
    }
   ],
   "source": [
    "# Convert ordinal variables to numerical variables \n",
    "from sklearn.preprocessing import LabelEncoder\n",
    "\n",
    "ord_var = ('MSZoning','Street','Alley','LotShape','LandSlope',\n",
    "'ExterQual','ExterCond','BsmtQual','BsmtCond','BsmtExposure',\n",
    "'BsmtFinType1','BsmtFinSF1','BsmtFinType2','HeatingQC','KitchenQual',\n",
    "'Functional','FireplaceQu','GarageFinish','GarageQual','GarageCond',\n",
    "'PavedDrive','PoolQC','Fence')\n",
    "\n",
    "for col in ord_var:\n",
    "        lbl = LabelEncoder()\n",
    "        lbl.fit(list(integrated_data[col].values))\n",
    "        integrated_data[col] = lbl.transform(list(integrated_data[col].values))\n",
    "\n",
    "print(f\"Shape all data: {format(integrated_data.shape)}\")"
   ]
  },
  {
   "cell_type": "markdown",
   "metadata": {},
   "source": [
    "4. One common method of pre-processing categorical features is to use a one-hot encoding (OHE).\n",
    "\n",
    "   Suppose that we start with a categorical feature $ x_j $, taking three possible values: \n",
    "   \n",
    "   $$ x_j ∈ {R, G, B } $$ \n",
    "   A one-hot encoding of this feature replaces $ x_j $ with three new features: $ x_{jR} $ , $ x_{jG} $ , $ x_{jB} $ . Each feature contains a binary value of 0 or 1, depending on the value taken by $ x_j $. \n",
    "   \n",
    "   For example, if $ x_j = G $, then $ x_{jG} = 1 $ and $ x_{jR} = x_{jB} = 0 $.\n",
    "   \n",
    "   Give some examples of features that you think should use a one-hot encoding and explain why.\n",
    "   \n",
    "   Convert at least one feature to a one-hot encoding (you can use your own implementation, or that in pandas or scikit-learn) and visualize the results by plotting feature histograms of the original feature and its new one-hot encoding.\n"
   ]
  },
  {
   "cell_type": "markdown",
   "metadata": {},
   "source": [
    "   Ans: For example, I think the features: MSSubClass, HouseStyle are suitable for the one hot coding. Because these two features are classification features and they don't contain orders in them. If we just use the normal coding methods like 0, 1, 2, 3, 4 will make the algorithm thinks that there exist an order within these factors and influence the accuarcy of the model."
   ]
  },
  {
   "cell_type": "code",
   "execution_count": 52,
   "metadata": {},
   "outputs": [
    {
     "data": {
      "image/png": "[encoded data removed]",
      "text/plain": [
       "<Figure size 2000x1000 with 2 Axes>"
      ]
     },
     "metadata": {},
     "output_type": "display_data"
    }
   ],
   "source": [
    "# Choose MSSubClass as example of one-hot coding\n",
    "original_mssubclass = integrated_data['MSSubClass'].copy()\n",
    "integrated_data = pd.get_dummies(integrated_data, columns=['MSSubClass'])\n",
    "coded_columns = [col for col in integrated_data.columns if 'MSSubClass' in col]\n",
    "\n",
    "plt.figure(figsize=(20, 10))\n",
    "\n",
    "plt.subplot(121)\n",
    "plt.hist(original_mssubclass, bins=16, color='skyblue', edgecolor='black')\n",
    "plt.title('Original MSSubClass Histogram')\n",
    "plt.xlabel('The type of dwelling involved in the sale')\n",
    "plt.ylabel('Frequency')\n",
    "\n",
    "\n",
    "plt.subplot(122)\n",
    "\n",
    "integrated_data[coded_columns].sum().plot(kind='bar', color='green', edgecolor='black')\n",
    "plt.title('Coded MSSubClass Bar Chart')\n",
    "plt.xlabel('The type of dwelling involved in the sale')\n",
    "plt.ylabel('Frequency')\n",
    "\n",
    "\n",
    "plt.show()"
   ]
  },
  {
   "cell_type": "code",
   "execution_count": 53,
   "metadata": {},
   "outputs": [
    {
     "name": "stdout",
     "output_type": "stream",
     "text": [
      "Shape all data: (2919, 232)\n"
     ]
    }
   ],
   "source": [
    "#Use One-Hot Coding to convert all other variables\n",
    "non_num_cols = integrated_data.select_dtypes(exclude=['number']).columns\n",
    "integrated_data = pd.get_dummies(integrated_data, columns=non_num_cols)\n",
    "print(f\"Shape all data: {format(integrated_data.shape)}\")"
   ]
  },
  {
   "cell_type": "markdown",
   "metadata": {},
   "source": [
    "5. Using ordinary least squares (OLS), try to predict house prices on this dataset. \n",
    "\n",
    "   Choose the features (or combinations of features) you would like to use or ignore, provided you justify your choice.\n",
    "\n",
    "   Evaluate your predictions on the training set using the MSE and the R2 score. \n",
    "\n",
    "   For this question, you need to implement OLS in 2 ways from pytorch.\n",
    "   1) using the scikit-learn package\n",
    "   2) using autograd \n",
    "\n"
   ]
  },
  {
   "cell_type": "code",
   "execution_count": 54,
   "metadata": {},
   "outputs": [],
   "source": [
    "obj_train = train.SalePrice.values\n",
    "train = integrated_data[:train.shape[0]]\n",
    "test = integrated_data[train.shape[0]:]"
   ]
  },
  {
   "cell_type": "code",
   "execution_count": 55,
   "metadata": {},
   "outputs": [
    {
     "name": "stdout",
     "output_type": "stream",
     "text": [
      "Train MSE: 487234736.5662516, Train R2: 0.9227443999473678\n"
     ]
    }
   ],
   "source": [
    "from sklearn.linear_model import LinearRegression\n",
    "from sklearn.metrics import mean_squared_error, r2_score\n",
    "from sklearn.model_selection import train_test_split\n",
    "\n",
    "x_train = train\n",
    "y_train = obj_train\n",
    "x_test = test\n",
    "\n",
    "# Set the model\n",
    "model1 = LinearRegression()\n",
    "model1.fit(x_train, y_train)\n",
    "y_train_pred = model1.predict(x_train)\n",
    "\n",
    "# Evaluate the model\n",
    "mse = mean_squared_error(y_train, y_train_pred)\n",
    "r2 = r2_score(y_train, y_train_pred)\n",
    "\n",
    "print(f\"Train MSE: {mse}, Train R2: {r2}\")\n"
   ]
  },
  {
   "cell_type": "code",
   "execution_count": 56,
   "metadata": {},
   "outputs": [
    {
     "name": "stdout",
     "output_type": "stream",
     "text": [
      "Epoch [100/10000], Loss: 6922516992.0000\n",
      "Epoch [200/10000], Loss: 6553702912.0000\n",
      "Epoch [300/10000], Loss: 6519489536.0000\n",
      "Epoch [400/10000], Loss: 6496924672.0000\n",
      "Epoch [500/10000], Loss: 6477184000.0000\n",
      "Epoch [600/10000], Loss: 6459723776.0000\n",
      "Epoch [700/10000], Loss: 6444260352.0000\n",
      "Epoch [800/10000], Loss: 6430548992.0000\n",
      "Epoch [900/10000], Loss: 6418376192.0000\n",
      "Epoch [1000/10000], Loss: 6407556608.0000\n",
      "Epoch [1100/10000], Loss: 6397927424.0000\n",
      "Epoch [1200/10000], Loss: 6389346816.0000\n",
      "Epoch [1300/10000], Loss: 6381689856.0000\n",
      "Epoch [1400/10000], Loss: 6374849536.0000\n",
      "Epoch [1500/10000], Loss: 6368728576.0000\n",
      "Epoch [1600/10000], Loss: 6363245056.0000\n",
      "Epoch [1700/10000], Loss: 6358326272.0000\n",
      "Epoch [1800/10000], Loss: 6353906176.0000\n",
      "Epoch [1900/10000], Loss: 6349929472.0000\n",
      "Epoch [2000/10000], Loss: 6346347008.0000\n",
      "Epoch [2100/10000], Loss: 6343113728.0000\n",
      "Epoch [2200/10000], Loss: 6340192768.0000\n",
      "Epoch [2300/10000], Loss: 6337549824.0000\n",
      "Epoch [2400/10000], Loss: 6335155712.0000\n",
      "Epoch [2500/10000], Loss: 6332983808.0000\n",
      "Epoch [2600/10000], Loss: 6331009536.0000\n",
      "Epoch [2700/10000], Loss: 6329214464.0000\n",
      "Epoch [2800/10000], Loss: 6327578112.0000\n",
      "Epoch [2900/10000], Loss: 6326085632.0000\n",
      "Epoch [3000/10000], Loss: 6324724224.0000\n",
      "Epoch [3100/10000], Loss: 6323477504.0000\n",
      "Epoch [3200/10000], Loss: 6322336768.0000\n",
      "Epoch [3300/10000], Loss: 6321290752.0000\n",
      "Epoch [3400/10000], Loss: 6320332288.0000\n",
      "Epoch [3500/10000], Loss: 6319450624.0000\n",
      "Epoch [3600/10000], Loss: 6318640128.0000\n",
      "Epoch [3700/10000], Loss: 6317894144.0000\n",
      "Epoch [3800/10000], Loss: 6317206528.0000\n",
      "Epoch [3900/10000], Loss: 6316572672.0000\n",
      "Epoch [4000/10000], Loss: 6315987456.0000\n",
      "Epoch [4100/10000], Loss: 6315446784.0000\n",
      "Epoch [4200/10000], Loss: 6314947584.0000\n",
      "Epoch [4300/10000], Loss: 6314484736.0000\n",
      "Epoch [4400/10000], Loss: 6314056704.0000\n",
      "Epoch [4500/10000], Loss: 6313658880.0000\n",
      "Epoch [4600/10000], Loss: 6313291776.0000\n",
      "Epoch [4700/10000], Loss: 6312949248.0000\n",
      "Epoch [4800/10000], Loss: 6312631808.0000\n",
      "Epoch [4900/10000], Loss: 6312337408.0000\n",
      "Epoch [5000/10000], Loss: 6312063488.0000\n",
      "Epoch [5100/10000], Loss: 6311809024.0000\n",
      "Epoch [5200/10000], Loss: 6311571968.0000\n",
      "Epoch [5300/10000], Loss: 6311350784.0000\n",
      "Epoch [5400/10000], Loss: 6311145472.0000\n",
      "Epoch [5500/10000], Loss: 6310953472.0000\n",
      "Epoch [5600/10000], Loss: 6310774784.0000\n",
      "Epoch [5700/10000], Loss: 6310608384.0000\n",
      "Epoch [5800/10000], Loss: 6310452736.0000\n",
      "Epoch [5900/10000], Loss: 6310306816.0000\n",
      "Epoch [6000/10000], Loss: 6310172160.0000\n",
      "Epoch [6100/10000], Loss: 6310045696.0000\n",
      "Epoch [6200/10000], Loss: 6309927424.0000\n",
      "Epoch [6300/10000], Loss: 6309816320.0000\n",
      "Epoch [6400/10000], Loss: 6309713408.0000\n",
      "Epoch [6500/10000], Loss: 6309616640.0000\n",
      "Epoch [6600/10000], Loss: 6309526016.0000\n",
      "Epoch [6700/10000], Loss: 6309441024.0000\n",
      "Epoch [6800/10000], Loss: 6309362176.0000\n",
      "Epoch [6900/10000], Loss: 6309287936.0000\n",
      "Epoch [7000/10000], Loss: 6309218304.0000\n",
      "Epoch [7100/10000], Loss: 6309152768.0000\n",
      "Epoch [7200/10000], Loss: 6309091840.0000\n",
      "Epoch [7300/10000], Loss: 6309035008.0000\n",
      "Epoch [7400/10000], Loss: 6308981248.0000\n",
      "Epoch [7500/10000], Loss: 6308931072.0000\n",
      "Epoch [7600/10000], Loss: 6308884480.0000\n",
      "Epoch [7700/10000], Loss: 6308840448.0000\n",
      "Epoch [7800/10000], Loss: 6308798976.0000\n",
      "Epoch [7900/10000], Loss: 6308759040.0000\n",
      "Epoch [8000/10000], Loss: 6308722176.0000\n",
      "Epoch [8100/10000], Loss: 6308687360.0000\n",
      "Epoch [8200/10000], Loss: 6308655616.0000\n",
      "Epoch [8300/10000], Loss: 6308625408.0000\n",
      "Epoch [8400/10000], Loss: 6308596224.0000\n",
      "Epoch [8500/10000], Loss: 6308569600.0000\n",
      "Epoch [8600/10000], Loss: 6308544512.0000\n",
      "Epoch [8700/10000], Loss: 6308520960.0000\n",
      "Epoch [8800/10000], Loss: 6308498432.0000\n",
      "Epoch [8900/10000], Loss: 6308477440.0000\n",
      "Epoch [9000/10000], Loss: 6308457472.0000\n",
      "Epoch [9100/10000], Loss: 6308438528.0000\n",
      "Epoch [9200/10000], Loss: 6308421632.0000\n",
      "Epoch [9300/10000], Loss: 6308404736.0000\n",
      "Epoch [9400/10000], Loss: 6308388864.0000\n",
      "Epoch [9500/10000], Loss: 6308374016.0000\n",
      "Epoch [9600/10000], Loss: 6308360192.0000\n",
      "Epoch [9700/10000], Loss: 6308346880.0000\n",
      "Epoch [9800/10000], Loss: 6308334080.0000\n",
      "Epoch [9900/10000], Loss: 6308322304.0000\n",
      "Epoch [10000/10000], Loss: 6308311040.0000\n",
      "Final learned parameters: w=tensor([-5.6018e-01,  2.2923e+00,  1.1953e-02, -5.1673e-01, -1.3318e+00,\n",
      "        -1.6977e+00,  9.6811e-01, -4.9228e-01, -6.7846e-02,  2.9125e+01,\n",
      "         3.0341e+01, -9.1282e-01, -7.7467e-01,  1.8924e-01,  2.9620e+00,\n",
      "         4.3249e-01,  1.2019e-01,  1.7287e-01, -1.4712e+00, -2.1419e-01,\n",
      "        -4.3862e-01, -8.7033e-01, -9.4690e-01,  6.8427e-01,  6.7724e-01,\n",
      "        -1.2641e+00, -9.2499e-01,  1.3742e+00,  1.4064e+00, -1.0749e+00,\n",
      "         6.3017e-01, -2.5698e-01, -7.9862e-01, -4.9764e-01, -1.1884e+00,\n",
      "        -1.5409e-01, -1.3054e-01, -1.8662e+00,  1.1287e+00,  1.2489e+00,\n",
      "        -7.7497e-02, -6.8135e-01, -3.5048e+00,  7.3428e-01,  5.3282e-01,\n",
      "         4.6963e-01, -2.3219e+00, -1.9611e+00,  5.8754e-01,  2.0858e+00,\n",
      "        -5.0447e-01,  3.6322e-01, -9.6750e-01, -2.2232e-01,  5.5175e-02,\n",
      "        -3.5916e-01,  3.0990e+01,  6.2545e-01,  7.9932e-01,  6.3988e-01,\n",
      "        -1.5830e-01, -1.1230e+00,  6.3599e-01, -2.4328e+00, -2.4525e-01,\n",
      "         4.9393e-01,  1.1051e+00,  6.1517e-01,  2.9242e-01,  3.9879e-01,\n",
      "        -5.5894e-01, -2.7204e-01,  1.9395e-01,  1.2824e+00, -8.1967e-01,\n",
      "        -2.7356e+00, -1.3367e-01,  4.0089e-01, -2.8000e-01, -1.2242e+00,\n",
      "        -2.2496e-01, -1.8472e-01,  1.5346e+00, -5.3294e-01, -9.5559e-01,\n",
      "         6.2641e-01, -3.3782e-01,  8.8805e-01, -9.5807e-01, -1.1232e-01,\n",
      "         1.0648e-01,  1.4990e+00,  6.5241e-01,  4.5857e-01,  3.3241e-01,\n",
      "        -4.6859e-02, -1.0327e+00, -1.2195e+00, -6.0775e-01, -8.1971e-01,\n",
      "         2.8586e-01,  1.4742e+00,  2.7705e-02, -1.4604e+00, -2.3136e+00,\n",
      "         8.2253e-01,  1.2909e+00,  2.4422e-01, -1.0487e+00,  2.1358e+00,\n",
      "        -7.9043e-01, -4.6149e-01,  3.8163e-01,  1.0362e-01,  3.0545e-02,\n",
      "        -1.1100e+00, -1.7186e+00, -1.3314e-01, -1.5344e+00,  1.7041e-01,\n",
      "         1.6844e-01,  6.2005e-01,  8.3485e-01, -7.9404e-01,  1.4133e-01,\n",
      "        -7.1872e-01, -2.3854e+00, -1.0504e+00, -1.4622e+00,  1.8865e-01,\n",
      "         1.3449e+00,  6.3639e-02,  2.5153e+00, -5.1745e-01,  1.0192e+00,\n",
      "        -1.0665e-01,  4.5324e-01,  2.0482e-01,  1.5634e+00,  4.6858e-02,\n",
      "        -6.4391e-01,  1.0878e+00, -1.4991e-01,  7.8729e-01, -2.0021e-01,\n",
      "        -9.5946e-01,  1.2695e+00, -8.2983e-01, -2.9572e-01, -7.2226e-02,\n",
      "        -1.2752e-01, -7.6327e-01,  8.8279e-01,  1.2603e-01, -8.0804e-01,\n",
      "        -2.7457e-01,  1.5739e+00,  2.2297e+00,  2.0759e+00,  2.2756e+00,\n",
      "        -1.0677e+00, -1.9429e+00,  1.6487e+00,  2.2896e+00,  1.0846e-01,\n",
      "         4.4800e-01,  3.3761e-01, -1.5530e-01, -2.8571e-02, -6.9896e-01,\n",
      "         4.8081e-01,  9.4012e-02,  1.2801e+00, -1.3361e-01,  2.0533e+00,\n",
      "        -5.6341e-01,  4.0004e-02,  2.3837e+00, -3.6587e-01, -1.5674e+00,\n",
      "        -1.0571e+00,  1.6795e+00, -6.7855e-01, -8.9269e-01,  6.6390e-01,\n",
      "        -1.6357e+00,  2.4728e-01,  5.7948e-03, -6.2138e-01,  8.2488e-01,\n",
      "         4.1871e-01, -7.3818e-01,  1.4140e+00, -1.6619e+00,  2.1978e-01,\n",
      "         1.1343e-01,  2.5392e-02,  1.3786e+00,  2.8329e-01,  2.2514e-01,\n",
      "         1.3548e+00, -7.0069e-01, -1.4135e+00, -1.7519e-02, -1.3168e-01,\n",
      "        -1.1842e+00, -1.0796e+00,  1.9621e+00,  1.6703e+00,  9.7207e-01,\n",
      "        -1.6006e-01,  1.7138e+00, -7.9444e-01,  7.3175e-01, -9.7397e-01,\n",
      "        -2.5232e+00, -3.9506e-01,  2.6977e-01, -4.0026e-01, -1.8078e+00,\n",
      "        -1.6812e+00,  3.7625e-01, -1.5169e+00,  3.5361e-01, -9.0085e-01,\n",
      "         1.0019e+00, -2.1540e-01, -1.0088e+00,  1.3141e+00,  7.4490e-02,\n",
      "        -1.9961e+00,  4.1935e-01], requires_grad=True), b=0.015168656595051289\n"
     ]
    }
   ],
   "source": [
    "# Convert the variables to torch\n",
    "x_train_tensor = torch.tensor(x_train.values, dtype=torch.float32)\n",
    "x_test_tensor = torch.tensor(x_test.values, dtype=torch.float32)\n",
    "y_train_tensor = torch.tensor(y_train, dtype=torch.float32).view(-1, 1)\n",
    "\n",
    "# Set Parameters for OLS\n",
    "w = torch.randn(x_train_tensor.shape[1], requires_grad=True) \n",
    "b = torch.zeros(1, requires_grad=True)\n",
    "\n",
    "# Set Learning Rate and epochs\n",
    "lr = 0.000000001\n",
    "num_epochs = 10000\n",
    "\n",
    "# Train the model\n",
    "\n",
    "for epoch in range(num_epochs):\n",
    "    predictions = x_train_tensor.matmul(w) + b  \n",
    "    loss = torch.mean((predictions - y_train_tensor) ** 2)  \n",
    "    loss.backward()\n",
    "\n",
    "    \n",
    "    with torch.no_grad():\n",
    "        w -= lr * w.grad\n",
    "        b -= lr * b.grad\n",
    "\n",
    "        w.grad.zero_()\n",
    "        b.grad.zero_()\n",
    "\n",
    "\n",
    "    if (epoch+1) % 100 == 0:\n",
    "        print(f'Epoch [{epoch+1}/{num_epochs}], Loss: {loss.item():.4f}')\n",
    "\n",
    "    with torch.no_grad():\n",
    "        y_train_pred = x_train_tensor.matmul(w) + b\n",
    "        \n",
    "print(f'Final learned parameters: w={w}, b={b.item()}')"
   ]
  },
  {
   "cell_type": "code",
   "execution_count": 57,
   "metadata": {},
   "outputs": [
    {
     "name": "stdout",
     "output_type": "stream",
     "text": [
      "Train MSE: 6264211150.788909, Train R2: 0.006751048332157228\n"
     ]
    }
   ],
   "source": [
    "mse = mean_squared_error(y_train, y_train_pred)\n",
    "r2 = r2_score(y_train, y_train_pred)\n",
    "\n",
    "print(f\"Train MSE: {mse}, Train R2: {r2}\")"
   ]
  },
  {
   "cell_type": "markdown",
   "metadata": {},
   "source": [
    "6. Compare and discuss the two results that you obtained in Q5. In addition, identify situations where applying gradient descent is more desirable in the context of linear regression.\n"
   ]
  },
  {
   "cell_type": "markdown",
   "metadata": {},
   "source": [
    "#### The result\n",
    "\n",
    "In Q5, based on my calculation, the performance of using linear regression is better than the autograd. \n",
    "The performance is shown as below:\n",
    "\n",
    "| Model | Linear Regression | Autograd|\n",
    "|:-------:|:-------:|:-------:|\n",
    "| Train MSE | 487234736.57  | 6261497948.48  |\n",
    "| Train R2  | 0.9227  | 0.0068  |\n",
    "\n",
    "\n",
    "In the contest of linear regression, I think Autograd is more suitable to deal with situations with large scale of data, which makes the least squares method will difficulty. Also, autograd is also more suitable for the dataset which contains a lot of outliers and noise. Because liner regression is more sensitive to the noise in the dataset."
   ]
  },
  {
   "cell_type": "markdown",
   "metadata": {},
   "source": [
    "7. Train your model using all of the training data (all data points, but not necessarily all the features),and test it using the testing data. Submit your results to Kaggle.\n",
    "\n",
    "   Please submit \n",
    "   1) a screenshot that highlights your position on Kaggle\n",
    "   2) your code that incorporates the evaluation of your model on the test dataset"
   ]
  },
  {
   "cell_type": "markdown",
   "metadata": {},
   "source": [
    "Screenshot is shown as below:\n",
    "\n",
    "\n",
    "\n",
    "![Example Image](./rank.png)\n",
    "\n",
    "![Example Image](./performance.png)\n",
    "\n"
   ]
  }
 ],
 "metadata": {
  "kernelspec": {
   "display_name": "Python 3 (ipykernel)",
   "language": "python",
   "name": "python3"
  },
  "language_info": {
   "codemirror_mode": {
    "name": "ipython",
    "version": 3
   },
   "file_extension": ".py",
   "mimetype": "text/x-python",
   "name": "python",
   "nbconvert_exporter": "python",
   "pygments_lexer": "ipython3",
   "version": "3.11.4"
  },
  "orig_nbformat": 4
 },
 "nbformat": 4,
 "nbformat_minor": 2
}
